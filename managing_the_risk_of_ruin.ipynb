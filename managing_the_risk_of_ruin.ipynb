{
  "nbformat": 4,
  "nbformat_minor": 0,
  "metadata": {
    "colab": {
      "provenance": [],
      "authorship_tag": "ABX9TyNd0DXdKvVkFabcHocOE1xB",
      "include_colab_link": true
    },
    "kernelspec": {
      "name": "python3",
      "display_name": "Python 3"
    },
    "language_info": {
      "name": "python"
    }
  },
  "cells": [
    {
      "cell_type": "markdown",
      "metadata": {
        "id": "view-in-github",
        "colab_type": "text"
      },
      "source": [
        "<a href=\"https://colab.research.google.com/github/1337Rinz/tool/blob/main/managing_the_risk_of_ruin.ipynb\" target=\"_parent\"><img src=\"https://colab.research.google.com/assets/colab-badge.svg\" alt=\"Open In Colab\"/></a>"
      ]
    },
    {
      "cell_type": "code",
      "execution_count": 1,
      "metadata": {
        "id": "TllgLzNj2-6B"
      },
      "outputs": [],
      "source": [
        "import numpy as np\n",
        "import matplotlib.pyplot as plt"
      ]
    },
    {
      "cell_type": "markdown",
      "source": [
        "The simulate_trade function simulates the outcome of a single trade based on the win probability. If a random number is less than the win probability, the trade is a win, otherwise, it's a loss. The function returns the gain or loss accordingly."
      ],
      "metadata": {
        "id": "725QdTb03IIK"
      }
    },
    {
      "cell_type": "code",
      "source": [
        "def simulate_trade(win_prob, avg_win, avg_loss):\n",
        "    \"\"\"\n",
        "    Simulate a single trade with given win probability and average win/loss amounts.\n",
        "    \"\"\"\n",
        "    if np.random.rand() < win_prob:\n",
        "        return avg_win\n",
        "    else:\n",
        "        return -avg_loss"
      ],
      "metadata": {
        "id": "-Nn8rbkV3CfU"
      },
      "execution_count": 2,
      "outputs": []
    },
    {
      "cell_type": "markdown",
      "source": [
        "set up a function that simulates a large number of trades."
      ],
      "metadata": {
        "id": "2ZiO0TVr3NJc"
      }
    },
    {
      "cell_type": "code",
      "source": [
        "def simulate_trading_strategy(initial_capital, trades, win_prob, avg_win, avg_loss):\n",
        "    \"\"\"\n",
        "    Simulate the entire trading strategy over a given number of trades.\n",
        "    \"\"\"\n",
        "    capital = initial_capital\n",
        "    capital_history = [capital]\n",
        "\n",
        "    for _ in range(trades):\n",
        "        capital += simulate_trade(win_prob, avg_win, avg_loss)\n",
        "        capital_history.append(capital)\n",
        "\n",
        "    return capital_history"
      ],
      "metadata": {
        "id": "xKyxDz5L3N8-"
      },
      "execution_count": 3,
      "outputs": []
    },
    {
      "cell_type": "code",
      "source": [
        "def calculate_risk_of_ruin(initial_capital, trades, win_prob, avg_win, avg_loss, simulations=100):\n",
        "    \"\"\"\n",
        "    Calculate the risk of ruin over a number of trading simulations.\n",
        "    \"\"\"\n",
        "    ruin_count = 0\n",
        "\n",
        "    for _ in range(simulations):\n",
        "        capital_history = simulate_trading_strategy(initial_capital, trades, win_prob, avg_win, avg_loss)\n",
        "        if min(capital_history) <= 0:\n",
        "            ruin_count += 1\n",
        "\n",
        "    return ruin_count / simulations"
      ],
      "metadata": {
        "id": "yFX-NcX13VNd"
      },
      "execution_count": 4,
      "outputs": []
    },
    {
      "cell_type": "markdown",
      "source": [
        "Simulate the strategy to compute the risk of ruin\n",
        "The initial parameters set the stage for our simulation. We define initial capital, win probability, and average win/loss amounts."
      ],
      "metadata": {
        "id": "-mnv54gj3lFZ"
      }
    },
    {
      "cell_type": "code",
      "source": [
        "initial_capital = 10000\n",
        "average_win = 110\n",
        "average_loss = 100\n",
        "trades = 1000"
      ],
      "metadata": {
        "id": "QNvlM0cC3kXZ"
      },
      "execution_count": 5,
      "outputs": []
    },
    {
      "cell_type": "markdown",
      "source": [
        "calculate the risk of ruin for a trading strategy across a range of win probabilities. It iterates through win probabilities from 30% to 59%, computes the risk of ruin for each probability  and stores the results."
      ],
      "metadata": {
        "id": "XFE-nI0q482d"
      }
    },
    {
      "cell_type": "code",
      "source": [
        "risk_of_ruins = []\n",
        "steps = range(30, 60)\n",
        "for step in steps:\n",
        "    win_probability = step / 100\n",
        "    risk_of_ruin = calculate_risk_of_ruin(initial_capital, trades, win_probability, average_win, average_loss)\n",
        "    risk_of_ruins.append(risk_of_ruin)"
      ],
      "metadata": {
        "id": "Yi6C8dPt4zeP"
      },
      "execution_count": 6,
      "outputs": []
    },
    {
      "cell_type": "code",
      "source": [
        "# Plot the capital history\n",
        "plt.figure(figsize=(10, 6))\n",
        "plt.plot(steps, risk_of_ruins, label='Risk of ruin')\n",
        "plt.xlabel('Probability of a winning trade')\n",
        "plt.ylabel('Risk of ruin')\n",
        "plt.grid(True)\n",
        "plt.show()"
      ],
      "metadata": {
        "colab": {
          "base_uri": "https://localhost:8080/",
          "height": 542
        },
        "id": "kLe6P-ov4-Po",
        "outputId": "aec7ad9e-8978-401d-aa75-8043fe7295f9"
      },
      "execution_count": 7,
      "outputs": [
        {
          "output_type": "display_data",
          "data": {
            "text/plain": [
              "<Figure size 1000x600 with 1 Axes>"
            ],
            "image/png": "[encoded data removed]"
          },
          "metadata": {}
        }
      ]
    }
  ]
}